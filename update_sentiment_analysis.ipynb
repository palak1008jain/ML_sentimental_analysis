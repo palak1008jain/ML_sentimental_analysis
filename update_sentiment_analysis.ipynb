{
 "cells": [
  {
   "cell_type": "code",
   "execution_count": 1,
   "id": "21a5985c-f79c-4295-9af0-560c3489eb19",
   "metadata": {},
   "outputs": [],
   "source": [
    "# DATA PRE-PROCESSING"
   ]
  },
  {
   "cell_type": "code",
   "execution_count": 2,
   "id": "700e9d62-b0da-4cdc-8a3a-2e574f95163a",
   "metadata": {},
   "outputs": [],
   "source": [
    "import pandas as pd"
   ]
  },
  {
   "cell_type": "code",
   "execution_count": 4,
   "id": "b567b011-77e0-46f1-867e-4ac72dddaf7f",
   "metadata": {},
   "outputs": [],
   "source": [
    "# Dataset contains reviews from 07/23 to 06/2024 - almost a year\n",
    "data = pd.read_csv(r\"C:\\Users\\mcss\\Downloads\\clean_chatgpt_reviews.csv\\clean_chatgpt_reviews.csv\")"
   ]
  },
  {
   "cell_type": "code",
   "execution_count": 4,
   "id": "cf9f280a-85d9-4082-9d54-844b60982943",
   "metadata": {},
   "outputs": [
    {
     "data": {
      "text/html": [
       "<div>\n",
       "<style scoped>\n",
       "    .dataframe tbody tr th:only-of-type {\n",
       "        vertical-align: middle;\n",
       "    }\n",
       "\n",
       "    .dataframe tbody tr th {\n",
       "        vertical-align: top;\n",
       "    }\n",
       "\n",
       "    .dataframe thead th {\n",
       "        text-align: right;\n",
       "    }\n",
       "</style>\n",
       "<table border=\"1\" class=\"dataframe\">\n",
       "  <thead>\n",
       "    <tr style=\"text-align: right;\">\n",
       "      <th></th>\n",
       "      <th>Unnamed: 0</th>\n",
       "      <th>userName</th>\n",
       "      <th>content</th>\n",
       "      <th>score</th>\n",
       "      <th>thumbsUpCount</th>\n",
       "      <th>at</th>\n",
       "    </tr>\n",
       "  </thead>\n",
       "  <tbody>\n",
       "    <tr>\n",
       "      <th>0</th>\n",
       "      <td>0</td>\n",
       "      <td>T H (Trudylh20)</td>\n",
       "      <td>excellent Im impressed 👌 👏</td>\n",
       "      <td>5</td>\n",
       "      <td>0</td>\n",
       "      <td>28-06-2024 21:07</td>\n",
       "    </tr>\n",
       "    <tr>\n",
       "      <th>1</th>\n",
       "      <td>1</td>\n",
       "      <td>Muhammad bassam adam</td>\n",
       "      <td>perfect</td>\n",
       "      <td>5</td>\n",
       "      <td>0</td>\n",
       "      <td>28-06-2024 20:56</td>\n",
       "    </tr>\n",
       "    <tr>\n",
       "      <th>2</th>\n",
       "      <td>2</td>\n",
       "      <td>Chinaza Okoli</td>\n",
       "      <td>its been so helpful...love it</td>\n",
       "      <td>5</td>\n",
       "      <td>0</td>\n",
       "      <td>28-06-2024 20:54</td>\n",
       "    </tr>\n",
       "    <tr>\n",
       "      <th>3</th>\n",
       "      <td>3</td>\n",
       "      <td>Project House Group Ltd</td>\n",
       "      <td>It's amazing tools help me a lot with my work.</td>\n",
       "      <td>5</td>\n",
       "      <td>0</td>\n",
       "      <td>28-06-2024 20:51</td>\n",
       "    </tr>\n",
       "    <tr>\n",
       "      <th>4</th>\n",
       "      <td>4</td>\n",
       "      <td>Safoan Riyad</td>\n",
       "      <td>I enjoyed ChatGPT. But last update ruined ever...</td>\n",
       "      <td>1</td>\n",
       "      <td>0</td>\n",
       "      <td>28-06-2024 20:50</td>\n",
       "    </tr>\n",
       "    <tr>\n",
       "      <th>5</th>\n",
       "      <td>5</td>\n",
       "      <td>LEISHA PALLETT</td>\n",
       "      <td>this is the best app I've ever seen!!!</td>\n",
       "      <td>5</td>\n",
       "      <td>0</td>\n",
       "      <td>28-06-2024 20:45</td>\n",
       "    </tr>\n",
       "    <tr>\n",
       "      <th>6</th>\n",
       "      <td>6</td>\n",
       "      <td>M Rizwan</td>\n",
       "      <td>very Nice app</td>\n",
       "      <td>5</td>\n",
       "      <td>0</td>\n",
       "      <td>28-06-2024 20:41</td>\n",
       "    </tr>\n",
       "    <tr>\n",
       "      <th>7</th>\n",
       "      <td>7</td>\n",
       "      <td>Mehdi Hajavi</td>\n",
       "      <td>Your guidance is really great and you can answ...</td>\n",
       "      <td>5</td>\n",
       "      <td>0</td>\n",
       "      <td>28-06-2024 20:39</td>\n",
       "    </tr>\n",
       "    <tr>\n",
       "      <th>8</th>\n",
       "      <td>8</td>\n",
       "      <td>Habimana Therese</td>\n",
       "      <td>This app is very important but sometimes it gi...</td>\n",
       "      <td>4</td>\n",
       "      <td>0</td>\n",
       "      <td>28-06-2024 20:35</td>\n",
       "    </tr>\n",
       "    <tr>\n",
       "      <th>9</th>\n",
       "      <td>9</td>\n",
       "      <td>Xhx Bvj</td>\n",
       "      <td>Absolutely fantastic app. ChatGPT is such a ve...</td>\n",
       "      <td>5</td>\n",
       "      <td>0</td>\n",
       "      <td>28-06-2024 20:29</td>\n",
       "    </tr>\n",
       "  </tbody>\n",
       "</table>\n",
       "</div>"
      ],
      "text/plain": [
       "   Unnamed: 0                 userName  \\\n",
       "0           0          T H (Trudylh20)   \n",
       "1           1     Muhammad bassam adam   \n",
       "2           2            Chinaza Okoli   \n",
       "3           3  Project House Group Ltd   \n",
       "4           4             Safoan Riyad   \n",
       "5           5           LEISHA PALLETT   \n",
       "6           6                 M Rizwan   \n",
       "7           7             Mehdi Hajavi   \n",
       "8           8         Habimana Therese   \n",
       "9           9                  Xhx Bvj   \n",
       "\n",
       "                                             content  score  thumbsUpCount  \\\n",
       "0                         excellent Im impressed 👌 👏      5              0   \n",
       "1                                            perfect      5              0   \n",
       "2                      its been so helpful...love it      5              0   \n",
       "3     It's amazing tools help me a lot with my work.      5              0   \n",
       "4  I enjoyed ChatGPT. But last update ruined ever...      1              0   \n",
       "5             this is the best app I've ever seen!!!      5              0   \n",
       "6                                      very Nice app      5              0   \n",
       "7  Your guidance is really great and you can answ...      5              0   \n",
       "8  This app is very important but sometimes it gi...      4              0   \n",
       "9  Absolutely fantastic app. ChatGPT is such a ve...      5              0   \n",
       "\n",
       "                 at  \n",
       "0  28-06-2024 21:07  \n",
       "1  28-06-2024 20:56  \n",
       "2  28-06-2024 20:54  \n",
       "3  28-06-2024 20:51  \n",
       "4  28-06-2024 20:50  \n",
       "5  28-06-2024 20:45  \n",
       "6  28-06-2024 20:41  \n",
       "7  28-06-2024 20:39  \n",
       "8  28-06-2024 20:35  \n",
       "9  28-06-2024 20:29  "
      ]
     },
     "execution_count": 4,
     "metadata": {},
     "output_type": "execute_result"
    }
   ],
   "source": [
    "data.head(10)"
   ]
  },
  {
   "cell_type": "code",
   "execution_count": 5,
   "id": "b268acab-5290-4e9c-89ea-d741fd13bacd",
   "metadata": {},
   "outputs": [
    {
     "data": {
      "text/plain": [
       "(149719, 6)"
      ]
     },
     "execution_count": 5,
     "metadata": {},
     "output_type": "execute_result"
    }
   ],
   "source": [
    "data.shape"
   ]
  },
  {
   "cell_type": "code",
   "execution_count": 5,
   "id": "771055fa-be5d-4b9f-8452-7e39d8d3ecd0",
   "metadata": {},
   "outputs": [],
   "source": [
    "data = data.drop_duplicates(keep=\"last\")"
   ]
  },
  {
   "cell_type": "code",
   "execution_count": 6,
   "id": "5f2b4793-ffe1-42c6-928b-3210e9edad36",
   "metadata": {},
   "outputs": [
    {
     "data": {
      "text/plain": [
       "score\n",
       "5    113738\n",
       "4     17581\n",
       "1      9555\n",
       "3      6256\n",
       "2      2589\n",
       "Name: count, dtype: int64"
      ]
     },
     "execution_count": 6,
     "metadata": {},
     "output_type": "execute_result"
    }
   ],
   "source": [
    "data[\"score\"].value_counts()"
   ]
  },
  {
   "cell_type": "code",
   "execution_count": 7,
   "id": "a5885040-b267-446f-8563-ad3a942d8ee5",
   "metadata": {},
   "outputs": [
    {
     "data": {
      "text/plain": [
       "(149719,)"
      ]
     },
     "execution_count": 7,
     "metadata": {},
     "output_type": "execute_result"
    }
   ],
   "source": [
    "data1 = data[\"score\"].replace({4:0, 5:0, 3:2})\n",
    "data1.shape"
   ]
  },
  {
   "cell_type": "code",
   "execution_count": 9,
   "id": "35aa7b5f-f1a3-4d25-9cfe-5c96268ec633",
   "metadata": {},
   "outputs": [
    {
     "data": {
      "text/plain": [
       "score\n",
       "0    131319\n",
       "1      9555\n",
       "2      8845\n",
       "Name: count, dtype: int64"
      ]
     },
     "execution_count": 9,
     "metadata": {},
     "output_type": "execute_result"
    }
   ],
   "source": [
    "data1.value_counts()"
   ]
  },
  {
   "cell_type": "code",
   "execution_count": 10,
   "id": "0da494ad-e3a7-4886-a177-057f75e1bee2",
   "metadata": {},
   "outputs": [
    {
     "data": {
      "image/png": "[encoded data removed]",
      "text/plain": [
       "<Figure size 1000x600 with 1 Axes>"
      ]
     },
     "metadata": {},
     "output_type": "display_data"
    }
   ],
   "source": [
    "import matplotlib.pyplot as plt\n",
    "import seaborn as sns\n",
    "\n",
    "plt.figure(figsize=(10, 6))\n",
    "sns.histplot(data1, color=\"green\")\n",
    "plt.show()"
   ]
  },
  {
   "cell_type": "code",
   "execution_count": 8,
   "id": "b1fc1253-7d4a-4ae1-9151-a7948422168b",
   "metadata": {},
   "outputs": [],
   "source": [
    "reviews = data.iloc[:, 2]\n",
    "ratings = data1.values"
   ]
  },
  {
   "cell_type": "code",
   "execution_count": 9,
   "id": "191aabcb-e7a6-4b3e-992c-ed8bf76a532d",
   "metadata": {},
   "outputs": [],
   "source": [
    "import re\n",
    "def preprocess(review):\n",
    "    review = re.sub(r\"[^\\w\\s]\", \" \", review)\n",
    "    review = review.lower()\n",
    "    return review\n",
    "\n",
    "reviews = reviews.apply(preprocess)\n"
   ]
  },
  {
   "cell_type": "code",
   "execution_count": 13,
   "id": "cf43419e-8298-4ecc-8899-25170b8f0277",
   "metadata": {},
   "outputs": [
    {
     "data": {
      "text/plain": [
       "0                                excellent im impressed    \n",
       "1                                                   perfect\n",
       "2                             its been so helpful   love it\n",
       "3            it s amazing tools help me a lot with my work \n",
       "4         i enjoyed chatgpt  but last update ruined ever...\n",
       "                                ...                        \n",
       "149714                                          update 2023\n",
       "149715                                            its grear\n",
       "149716                                        funtastic app\n",
       "149717                                               hi all\n",
       "149718                                   expert application\n",
       "Name: content, Length: 149719, dtype: object"
      ]
     },
     "execution_count": 13,
     "metadata": {},
     "output_type": "execute_result"
    }
   ],
   "source": [
    "reviews"
   ]
  },
  {
   "cell_type": "code",
   "execution_count": 10,
   "id": "d1204453-864f-4a37-b63c-809901af5de1",
   "metadata": {},
   "outputs": [],
   "source": [
    "from sklearn.feature_extraction.text import TfidfVectorizer\n",
    "# Scores each word in a review and scores it based on how many times it has been used. Being used less number of times \n",
    "# indicates specificity and more number of times indicates importance."
   ]
  },
  {
   "cell_type": "code",
   "execution_count": 11,
   "id": "25200834-fe9a-421f-8dfc-465e8f96e7aa",
   "metadata": {},
   "outputs": [],
   "source": [
    "vectorizer = TfidfVectorizer(stop_words=\"english\")\n",
    "X = vectorizer.fit_transform(reviews)\n",
    "Y = ratings"
   ]
  },
  {
   "cell_type": "code",
   "execution_count": 12,
   "id": "fc7bc1ef-ecc4-4bcb-a1a6-31e6ef4089f0",
   "metadata": {},
   "outputs": [],
   "source": [
    "from sklearn.model_selection import train_test_split"
   ]
  },
  {
   "cell_type": "code",
   "execution_count": 13,
   "id": "10418f35-24bc-4e99-8c95-861e1f5d947d",
   "metadata": {},
   "outputs": [],
   "source": [
    "x_train, x_test, y_train, y_test = train_test_split(X, Y, test_size=1/3, random_state=42)"
   ]
  },
  {
   "cell_type": "code",
   "execution_count": 14,
   "id": "dce3feb3-348f-49f8-a94b-db3db48a6e17",
   "metadata": {},
   "outputs": [],
   "source": [
    "# MODEL BUILDING"
   ]
  },
  {
   "cell_type": "code",
   "execution_count": 15,
   "id": "a5d7dc79-aa99-4686-bd3f-fd2cfc04ee01",
   "metadata": {},
   "outputs": [],
   "source": [
    "# LOGISTIC REGRESSION"
   ]
  },
  {
   "cell_type": "code",
   "execution_count": 16,
   "id": "37e1d3ec-15a9-48f8-b1a1-c96ff6334bdd",
   "metadata": {},
   "outputs": [],
   "source": [
    "from sklearn.linear_model import LogisticRegression"
   ]
  },
  {
   "cell_type": "code",
   "execution_count": 17,
   "id": "3146ea44-a915-4ff5-a6bf-eedb49b7336e",
   "metadata": {},
   "outputs": [],
   "source": [
    "logreg = LogisticRegression(max_iter = 200)\n",
    "logreg.fit(x_train, y_train)\n",
    "predictions_lr = logreg.predict(x_test)"
   ]
  },
  {
   "cell_type": "code",
   "execution_count": 18,
   "id": "e6a3c7db-86ee-41fe-a4f5-ff9136b18933",
   "metadata": {},
   "outputs": [],
   "source": [
    "from sklearn.metrics import accuracy_score, confusion_matrix"
   ]
  },
  {
   "cell_type": "code",
   "execution_count": 19,
   "id": "ac2d03ca-b0a1-4ffe-b7a7-5531e11c8582",
   "metadata": {},
   "outputs": [
    {
     "name": "stdout",
     "output_type": "stream",
     "text": [
      "89.93527962009338\n"
     ]
    }
   ],
   "source": [
    "accuracy_lr = accuracy_score(y_test, predictions_lr)\n",
    "cf_lr = confusion_matrix(y_test, predictions_lr)\n",
    "print(accuracy_lr*100)"
   ]
  },
  {
   "cell_type": "code",
   "execution_count": 20,
   "id": "eb209b65-fa55-4f77-a31e-98e735ebcaf1",
   "metadata": {},
   "outputs": [],
   "source": [
    "import matplotlib.pyplot as plt\n",
    "import seaborn as sns "
   ]
  },
  {
   "cell_type": "code",
   "execution_count": 21,
   "id": "d393924a-a2b3-415d-9262-86d4f0bc18e3",
   "metadata": {},
   "outputs": [
    {
     "data": {
      "image/png": "[encoded data removed]",
      "text/plain": [
       "<Figure size 500x300 with 2 Axes>"
      ]
     },
     "metadata": {},
     "output_type": "display_data"
    }
   ],
   "source": [
    "plt.figure(figsize=(5, 3))\n",
    "sns.heatmap(cf_lr, cmap=\"plasma\", linewidth=0.5)\n",
    "plt.show()"
   ]
  },
  {
   "cell_type": "code",
   "execution_count": 22,
   "id": "e211490b-6735-484f-802a-c2327b1aa047",
   "metadata": {},
   "outputs": [],
   "source": [
    "# SVM"
   ]
  },
  {
   "cell_type": "code",
   "execution_count": 23,
   "id": "6d42cc3c-da21-491b-b404-32e369f57d78",
   "metadata": {},
   "outputs": [],
   "source": [
    "from sklearn.svm import SVC"
   ]
  },
  {
   "cell_type": "code",
   "execution_count": 24,
   "id": "a3c11a4d-7967-4ae8-b6d4-0a211acacfff",
   "metadata": {},
   "outputs": [],
   "source": [
    "svm = SVC()\n",
    "svm.fit(x_train, y_train)\n",
    "predictions_svm = svm.predict(x_test)"
   ]
  },
  {
   "cell_type": "code",
   "execution_count": 25,
   "id": "2d6dc7c0-251f-42eb-989a-b19025686f4a",
   "metadata": {},
   "outputs": [
    {
     "name": "stdout",
     "output_type": "stream",
     "text": [
      "90.04949205522271\n"
     ]
    }
   ],
   "source": [
    "accuracy_svm = accuracy_score(y_test, predictions_svm)\n",
    "cf_svm = confusion_matrix(y_test, predictions_svm)\n",
    "print(accuracy_svm*100)"
   ]
  },
  {
   "cell_type": "code",
   "execution_count": 26,
   "id": "cb6b719d-66ac-4499-aec8-1d461c61012e",
   "metadata": {},
   "outputs": [
    {
     "data": {
      "image/png": "[encoded data removed]",
      "text/plain": [
       "<Figure size 500x300 with 2 Axes>"
      ]
     },
     "metadata": {},
     "output_type": "display_data"
    }
   ],
   "source": [
    "plt.figure(figsize=(5, 3))\n",
    "sns.heatmap(cf_svm, linewidth=0.5)\n",
    "plt.show()"
   ]
  },
  {
   "cell_type": "code",
   "execution_count": null,
   "id": "c16e64f5-5cd4-42e5-aed2-464d012960e6",
   "metadata": {},
   "outputs": [],
   "source": [
    "# LINEAR SVM"
   ]
  },
  {
   "cell_type": "code",
   "execution_count": 26,
   "id": "de8e240c-b072-4eae-ae6b-ae953c63de61",
   "metadata": {},
   "outputs": [],
   "source": [
    "linear_svm = SVC(kernel=\"linear\")\n",
    "linear_svm.fit(x_train, y_train)\n",
    "predictions_lsvm = linear_svm.predict(x_test)"
   ]
  },
  {
   "cell_type": "code",
   "execution_count": 27,
   "id": "062196b3-4159-4627-a273-6f5fd0b59049",
   "metadata": {},
   "outputs": [
    {
     "name": "stdout",
     "output_type": "stream",
     "text": [
      "90.04949205522271\n"
     ]
    }
   ],
   "source": [
    "accuracy_lsvm = accuracy_score(y_test, predictions_lsvm)\n",
    "cf_lsvm = confusion_matrix(y_test, predictions_lsvm)\n",
    "print(accuracy_svm*100)"
   ]
  },
  {
   "cell_type": "code",
   "execution_count": 29,
   "id": "c76b364e-1ee0-4c5c-b496-806e0f6fa846",
   "metadata": {},
   "outputs": [
    {
     "data": {
      "image/png": "[encoded data removed]",
      "text/plain": [
       "<Figure size 500x300 with 2 Axes>"
      ]
     },
     "metadata": {},
     "output_type": "display_data"
    }
   ],
   "source": [
    "plt.figure(figsize=(5, 3))\n",
    "sns.heatmap(cf_lsvm, linewidth=0.5)\n",
    "plt.show()"
   ]
  },
  {
   "cell_type": "code",
   "execution_count": null,
   "id": "a31c0d80-14c1-4a0a-920a-a6807004c525",
   "metadata": {},
   "outputs": [],
   "source": [
    "# Decision Tree"
   ]
  },
  {
   "cell_type": "code",
   "execution_count": 28,
   "id": "546075df-6eb2-427c-9bb4-1d19a0d52693",
   "metadata": {},
   "outputs": [
    {
     "name": "stdout",
     "output_type": "stream",
     "text": [
      "87.89748933015409\n"
     ]
    }
   ],
   "source": [
    "from sklearn.tree import DecisionTreeClassifier\n",
    "from sklearn.metrics import accuracy_score, confusion_matrix\n",
    "\n",
    "\n",
    "model = DecisionTreeClassifier()\n",
    "model.fit(x_train, y_train)\n",
    "\n",
    "y_pred = model.predict(x_test)\n",
    "accuracy_dt = accuracy_score(y_test, y_pred)\n",
    "\n",
    "print(accuracy_dt*100)"
   ]
  },
  {
   "cell_type": "code",
   "execution_count": 39,
   "id": "d95d33fd-73d6-4410-9a72-7ee6a5199936",
   "metadata": {},
   "outputs": [
    {
     "data": {
      "image/png": "[encoded data removed]",
      "text/plain": [
       "<Figure size 500x300 with 2 Axes>"
      ]
     },
     "metadata": {},
     "output_type": "display_data"
    }
   ],
   "source": [
    "matrix_dt = confusion_matrix(y_test, y_pred)\n",
    "\n",
    "plt.figure(figsize=(5, 3))\n",
    "sns.heatmap(matrix_dt, cmap='Blues', linewidth=0.5)\n",
    "plt.show()"
   ]
  },
  {
   "cell_type": "code",
   "execution_count": null,
   "id": "8333e3e0-b167-449d-b20b-e64321e0d9b9",
   "metadata": {},
   "outputs": [],
   "source": [
    "# Gradient Boost"
   ]
  },
  {
   "cell_type": "code",
   "execution_count": 29,
   "id": "c763d319-77ed-4b7a-9e2e-b3b1cba95164",
   "metadata": {},
   "outputs": [],
   "source": [
    "from sklearn.ensemble import GradientBoostingClassifier\n",
    "\n",
    "gb = GradientBoostingClassifier()\n",
    "gb.fit(x_train, y_train)\n",
    "predictions_gb = gb.predict(x_test)\n",
    "\n",
    "accuracy_gb = accuracy_score(y_test, predictions_gb)"
   ]
  },
  {
   "cell_type": "code",
   "execution_count": 46,
   "id": "0bf425dc-497a-4afd-8b3e-ca3f761e03c4",
   "metadata": {},
   "outputs": [
    {
     "name": "stdout",
     "output_type": "stream",
     "text": [
      "88.84925962289859\n"
     ]
    }
   ],
   "source": [
    "print(accuracy_gb*100)"
   ]
  },
  {
   "cell_type": "code",
   "execution_count": 44,
   "id": "68be8aeb-1be9-45c7-8fdd-3bf773e31b25",
   "metadata": {},
   "outputs": [
    {
     "data": {
      "image/png": "[encoded data removed]",
      "text/plain": [
       "<Figure size 500x300 with 2 Axes>"
      ]
     },
     "metadata": {},
     "output_type": "display_data"
    }
   ],
   "source": [
    "matrix_gb = confusion_matrix(y_test, y_pred)\n",
    "\n",
    "plt.figure(figsize=(5, 3))\n",
    "sns.heatmap(matrix_gb, cmap='Greens', linewidth=0.5)\n",
    "plt.show()"
   ]
  },
  {
   "cell_type": "code",
   "execution_count": 34,
   "id": "2ef5ab9c-6be3-4194-88d4-21a6b70e005a",
   "metadata": {},
   "outputs": [
    {
     "data": {
      "image/png": "[encoded data removed]",
      "text/plain": [
       "<Figure size 1000x300 with 1 Axes>"
      ]
     },
     "metadata": {},
     "output_type": "display_data"
    }
   ],
   "source": [
    "accuracies = [accuracy_lr*100, accuracy_svm*100, accuracy_lsvm*100, accuracy_dt*100, accuracy_gb*100]\n",
    "labels = [\"LR\", \"SVM\", \"LSVM\", \"DT\", \"GB\"]\n",
    "colors = [\"gold\", \"green\", \"brown\", \"orange\", \"magenta\"]\n",
    "\n",
    "plt.figure(figsize=(10, 3))\n",
    "plt.bar(labels, accuracies, color=colors, width=0.25)\n",
    "plt.show()"
   ]
  },
  {
   "cell_type": "code",
   "execution_count": null,
   "id": "201b8119-43d4-4fbe-98ec-0b6b8685997e",
   "metadata": {},
   "outputs": [],
   "source": []
  }
 ],
 "metadata": {
  "kernelspec": {
   "display_name": "Python 3 (ipykernel)",
   "language": "python",
   "name": "python3"
  },
  "language_info": {
   "codemirror_mode": {
    "name": "ipython",
    "version": 3
   },
   "file_extension": ".py",
   "mimetype": "text/x-python",
   "name": "python",
   "nbconvert_exporter": "python",
   "pygments_lexer": "ipython3",
   "version": "3.12.4"
  }
 },
 "nbformat": 4,
 "nbformat_minor": 5
}
